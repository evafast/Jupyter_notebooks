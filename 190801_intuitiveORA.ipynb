{
 "cells": [
  {
   "attachments": {},
   "cell_type": "markdown",
   "metadata": {},
   "source": [
    "## Towards a more intutive understanding of overrepresentation analysis for Biology \n",
    "\n",
    "\n",
    "**General motivation:**\n",
    "\n",
    "Pathway enrichment analysis or in more general term overrepresentation analysis is quite widespread in Biology. We frequently end up with lists of genes, transcripts, genomic regions, etc and want to find out what general signatures/pathways/transcription factor binding motifs are enriched therein. Statistically speaking overrepresentation analysis is performed by a hypergeometric test or it's close relative the Fisher's exact test. The formulas for calculating probabilities and p-values are listed below but they are not that easy to intuitively understand. \n",
    "\n",
    "The goal of this notebooks is to provide some interactive tools to enable a better understanding how each component of the enrichment analysis (size of overlap, size of gene sets, etc) relates to each other and how this influences the outcome p-value.\n",
    "\n",
    "This goal of this notebook is NOT to provide a comprehensive explanation of the statistical foundations of the tests used. Statistical precision is deliberately omitted in order to provide more clarity for the biological audience. I highly recommend the Wikipedia page for a more in depth but very clearly explained discussion of the [Fisher's exact test](https://en.wikipedia.org/wiki/Fisher%27s_exact_test) as well as the [hypergeometric distribution](https://en.wikipedia.org/wiki/Hypergeometric_distribution).\n"
   ]
  },
  {
   "cell_type": "code",
   "execution_count": 2,
   "metadata": {},
   "outputs": [],
   "source": [
    "#load some packages that are needed for plotting + computation\n",
    "\n",
    "import math\n",
    "from matplotlib import pyplot as plt\n",
    "from matplotlib_venn import venn3\n",
    "import pandas as pd\n",
    "import scipy.stats as stats"
   ]
  },
  {
   "cell_type": "markdown",
   "metadata": {},
   "source": [
    "### 1) Define the input variables"
   ]
  },
  {
   "cell_type": "markdown",
   "metadata": {},
   "source": [
    "First let's define the size of the an arbitrary result, that could have been obtained from a typical RNAseq experiment. We have a certain number of genes that are upregulated (Genes_up). We have a specific GO term (Genes_GO) that consists of a certain number of genes and there is an overlap of Genes that are both part of the GO term and part of the upregulated genes (upAndGO). Finally we also must set the total number of Genes that we observed. For example this could be the total number of genes that are expressed in my sample (universe). "
   ]
  },
  {
   "cell_type": "code",
   "execution_count": 38,
   "metadata": {},
   "outputs": [],
   "source": [
    "# define Variables\n",
    "Genes_up = 200 # genes that are upregulated \n",
    "Genes_GO = 50 # genes that are part of a specific GO term\n",
    "upAndGO = 10 # upregulated genes that are part of that GO term (==overlap)\n",
    "universe = 10000 # total number of genes that could be observed"
   ]
  },
  {
   "cell_type": "markdown",
   "metadata": {},
   "source": [
    "### 2) Visualize the overlap as a 2x2 table\n",
    "\n",
    "The overlap and relation between the two groups (GO term and Genes up) can be visualized by a 2x2 table. The top left contains the genes that are a member of both classes. \n",
    "\n",
    "| . |  genes up  | genes not up | total |\n",
    "| --------- | ---------- | ------------ |---------- |\n",
    "| GO yes |  **a** (upAndGO)  | **b** | Genes_GO |\n",
    "| GO no |  **c** | **d** | |\n",
    "| GO yes | Genes_up |  .  | universe |\n",
    "\n",
    "All the rows add up accross and the columns add up vertically. For the calculations we only need the inner values a-d. They are caluculated for our example below\n"
   ]
  },
  {
   "cell_type": "code",
   "execution_count": 39,
   "metadata": {
    "scrolled": true
   },
   "outputs": [
    {
     "data": {
      "text/html": [
       "<div>\n",
       "<style scoped>\n",
       "    .dataframe tbody tr th:only-of-type {\n",
       "        vertical-align: middle;\n",
       "    }\n",
       "\n",
       "    .dataframe tbody tr th {\n",
       "        vertical-align: top;\n",
       "    }\n",
       "\n",
       "    .dataframe thead th {\n",
       "        text-align: right;\n",
       "    }\n",
       "</style>\n",
       "<table border=\"1\" class=\"dataframe\">\n",
       "  <thead>\n",
       "    <tr style=\"text-align: right;\">\n",
       "      <th></th>\n",
       "      <th>genes up</th>\n",
       "      <th>genes not up</th>\n",
       "      <th>total</th>\n",
       "    </tr>\n",
       "  </thead>\n",
       "  <tbody>\n",
       "    <tr>\n",
       "      <th>GO yes</th>\n",
       "      <td>10</td>\n",
       "      <td>40</td>\n",
       "      <td>50</td>\n",
       "    </tr>\n",
       "    <tr>\n",
       "      <th>GO no</th>\n",
       "      <td>190</td>\n",
       "      <td>9760</td>\n",
       "      <td>9950</td>\n",
       "    </tr>\n",
       "    <tr>\n",
       "      <th>total</th>\n",
       "      <td>200</td>\n",
       "      <td>9800</td>\n",
       "      <td>10000</td>\n",
       "    </tr>\n",
       "  </tbody>\n",
       "</table>\n",
       "</div>"
      ],
      "text/plain": [
       "        genes up  genes not up  total\n",
       "GO yes        10            40     50\n",
       "GO no        190          9760   9950\n",
       "total        200          9800  10000"
      ]
     },
     "execution_count": 39,
     "metadata": {},
     "output_type": "execute_result"
    }
   ],
   "source": [
    "# calculate all the parts of the 2x2 table and plot it\n",
    "a = upAndGO\n",
    "b = Genes_GO - upAndGO\n",
    "c = Genes_up - upAndGO\n",
    "d = universe - (b+c+a)\n",
    "\n",
    "table = pd.DataFrame(np.array([[a, b, Genes_GO], [c, d, (c+d)], [Genes_up, (b+d), universe]]),\n",
    "                    columns=['genes up', 'genes not up', 'total'], index = ['GO yes', 'GO no', 'total'])\n",
    "table"
   ]
  },
  {
   "cell_type": "markdown",
   "metadata": {},
   "source": [
    "### 3) Visualize the overlap as a Venn diagram\n",
    "\n",
    "similarily we can also visualize the overlap with a Venn diagram where the size is proportional to each of the values"
   ]
  },
  {
   "cell_type": "code",
   "execution_count": 40,
   "metadata": {
    "scrolled": true
   },
   "outputs": [
    {
     "data": {
      "image/png": "[encoded data removed]",
      "text/plain": [
       "<Figure size 288x288 with 1 Axes>"
      ]
     },
     "metadata": {},
     "output_type": "display_data"
    }
   ],
   "source": [
    "# this plots a Venn diagram\n",
    "\n",
    "plt.figure(figsize=(4,4))\n",
    "v = venn3((d , 0, b, 0, c, 0, a), set_labels = ('gene universe', 'GO-term', 'genes up'))\n",
    "plt.title(\"Gene - GO-term overlap\")\n",
    "plt.show()"
   ]
  },
  {
   "cell_type": "markdown",
   "metadata": {},
   "source": [
    "### 4) Calculate the probablity of obtaining this specific result\n",
    "\n",
    "With the following formula for the hypergeometric distribution you can calculate the exact probablity of getting the result (overlap) shown above. As mentioned before - not that easy to understand how probablity would change based on a different relation of a to b to c to d."
   ]
  },
  {
   "cell_type": "markdown",
   "metadata": {},
   "source": [
    "$probablity=\\frac{\\left(\\begin{array}{c}{a+b} \\\\ {a}\\end{array}\\right)\\left(\\begin{array}{c}{c+d} \\\\ {c}\\end{array}\\right)}{\\left(\\begin{array}{c}{n} \\\\ {a+c}\\end{array}\\right)}=\\frac{\\left(\\begin{array}{c}{a+b} \\\\ {b}\\end{array}\\right)\\left(\\begin{array}{c}{c+d} \\\\ {d}\\end{array}\\right)}{\\left(\\begin{array}{c}{n} \\\\ {b+d}\\end{array}\\right)}=\\frac{(a+b) !(c+d) !(a+c) !(b+c) !(b+d) !}{a ! b ! c ! d ! n !}$"
   ]
  },
  {
   "cell_type": "code",
   "execution_count": 43,
   "metadata": {
    "scrolled": true
   },
   "outputs": [
    {
     "name": "stdout",
     "output_type": "stream",
     "text": [
      "The probablity of getting this distribution is 3.893900487692668e-08\n"
     ]
    }
   ],
   "source": [
    "prob = math.factorial(a+b)*math.factorial(c+d)*math.factorial(a+c)*math.factorial(b+d)/(math.factorial(a)*math.factorial(b)*math.factorial(c)*math.factorial(d)*math.factorial(universe))\n",
    "print('The probablity of getting this distribution is %s' %(prob))"
   ]
  },
  {
   "cell_type": "markdown",
   "metadata": {},
   "source": [
    "The probablity is shown above but again this is only the probablity of that specific 2x2 table."
   ]
  },
  {
   "cell_type": "markdown",
   "metadata": {},
   "source": [
    "### 5) The actual p-value = probablity of this result + anything more extreme than that\n",
    "\n",
    "In practice the p-value of the one-tailed Fisher exact (or hypergeometric) test does not only take into account the probablity of one specific 2x2 table but it also adds the probabilites of all tables that are more \"extreme\" than that. In this particular case more extreme would mean more genes that overlap by being in category 'a'. The p-value represents chance of getting a result so 'extreme' as in the 2x2 table or even more extreme. If it is very small (typical cutoff 0.05) we can reject the null hypothesis and call the result statistically significant. In other words there is a significant overlap of the number of genes that are upregulated and the number of genes that are a member of the GO term. Therefore we can call this pathway enriched in our gene set."
   ]
  },
  {
   "cell_type": "code",
   "execution_count": 10,
   "metadata": {},
   "outputs": [
    {
     "data": {
      "text/plain": [
       "4.1878916374966034e-08"
      ]
     },
     "execution_count": 10,
     "metadata": {},
     "output_type": "execute_result"
    }
   ],
   "source": [
    "oddsratio, pvalue = stats.fisher_exact([[a, b], [c, d]])\n",
    "pvalue"
   ]
  },
  {
   "cell_type": "markdown",
   "metadata": {},
   "source": [
    "In this case the p-value is <0.05 so this overlap is statistically significant. "
   ]
  },
  {
   "cell_type": "markdown",
   "metadata": {},
   "source": [
    "### 6) Try it out yourself - different permutations\n",
    "\n",
    "Here is the whole above analysis in one cell. Feel free to play around and see how p-values change. "
   ]
  },
  {
   "cell_type": "code",
   "execution_count": 48,
   "metadata": {},
   "outputs": [
    {
     "name": "stdout",
     "output_type": "stream",
     "text": [
      "        genes up  genes not up  total\n",
      "GO yes        10            40     50\n",
      "GO no        190          9760   9950\n",
      "total        200          9800  10000\n"
     ]
    },
    {
     "data": {
      "image/png": "[encoded data removed]",
      "text/plain": [
       "<Figure size 288x288 with 1 Axes>"
      ]
     },
     "metadata": {},
     "output_type": "display_data"
    },
    {
     "name": "stdout",
     "output_type": "stream",
     "text": [
      "The p-value for the one tailed Fisher exact test is 4.1878916374966034e-08\n"
     ]
    }
   ],
   "source": [
    "# define Variables\n",
    "Genes_up = 200\n",
    "Genes_GO = 50\n",
    "upAndGO = 10\n",
    "universe = 10000\n",
    "\n",
    "# calculate the parts\n",
    "a = upAndGO\n",
    "b = Genes_GO - upAndGO\n",
    "c = Genes_up - upAndGO\n",
    "d = universe - (b+c+a)\n",
    "\n",
    "# this makes the table\n",
    "table = pd.DataFrame(np.array([[a, b, Genes_GO], [c, d, (c+d)], [Genes_up, (b+d), universe]]),\n",
    "                    columns=['genes up', 'genes not up', 'total'], index = ['GO yes', 'GO no', 'total'])\n",
    "print(table)\n",
    "\n",
    "#this makes the Venn diagramm\n",
    "plt.figure(figsize=(4,4))\n",
    "v = venn3((d , 0, b, 0, c, 0, a), set_labels = ('gene universe', 'GO-term', 'genes up'))\n",
    "plt.title(\"Gene - GO-term overlap\")\n",
    "plt.show()\n",
    "\n",
    "#calculating the P-value\n",
    "oddsratio, pvalue = stats.fisher_exact([[a, b], [c, d]], alternative='greater')\n",
    "\n",
    "print('The p-value for the one tailed Fisher exact test is %s' %(pvalue))"
   ]
  },
  {
   "cell_type": "markdown",
   "metadata": {},
   "source": [
    "### 7) How does the p-value change when one parameter is varied\n",
    "\n",
    "The above cell allow nicely to play around with the different parameters but only one result can be looked at at a time. Below I plotted how the p-value cahgnes when one parameter (size of overlap, size of universe, size of GO term) is varied and everything else is kept constant."
   ]
  },
  {
   "cell_type": "markdown",
   "metadata": {},
   "source": [
    "#### a) stepwise increases of the GO-term size\n",
    "replacing the GO-term with the upregulated Genes will give a similar result"
   ]
  },
  {
   "cell_type": "code",
   "execution_count": 25,
   "metadata": {},
   "outputs": [
    {
     "data": {
      "text/plain": [
       "<function matplotlib.pyplot.show(*args, **kw)>"
      ]
     },
     "execution_count": 25,
     "metadata": {},
     "output_type": "execute_result"
    },
    {
     "data": {
      "image/png": "[encoded data removed]",
      "text/plain": [
       "<Figure size 432x288 with 1 Axes>"
      ]
     },
     "metadata": {
      "needs_background": "light"
     },
     "output_type": "display_data"
    }
   ],
   "source": [
    "# define Variables\n",
    "Genes_up = 200\n",
    "Genes_GO = 50 # start with a small size\n",
    "upAndGO = 10 \n",
    "universe = 10000\n",
    "\n",
    "# calculate the parts - do not need to calculate b here because that is the parmeter that is varied in the loop\n",
    "a = upAndGO\n",
    "c = Genes_up - upAndGO\n",
    "d = universe - (b+c+a)\n",
    "\n",
    "# define a Dataframe where the results are saved\n",
    "results_df=[]\n",
    "results_df = pd.DataFrame(columns=['size_GO', 'p-value', 'oddsratio'])\n",
    "\n",
    "for i in range(Genes_GO, Genes_GO+1000, 10):\n",
    "    b = i - upAndGO\n",
    "    oddsratio, pvalue = stats.fisher_exact([[a, b], [c, d]], alternative='greater')\n",
    "    results_df = results_df.append(pd.DataFrame([[i, pvalue, oddsratio]], columns=['size_GO', 'p-value', 'oddsratio']))\n",
    "\n",
    "# plot the p-value how it depends on the size of the GO term\n",
    "plt.plot(results_df['size_GO'], results_df['p-value'])\n",
    "plt.xlabel('size of GO term')\n",
    "plt.ylabel('p-value')\n",
    "plt.show"
   ]
  },
  {
   "cell_type": "markdown",
   "metadata": {},
   "source": [
    "**Conclusion**: Increasing the size of the GO term will increase the p-value and the overlap will be less statistically significant. If most of the genes are part of the GO-term then it's more likely that the overlap is due to random chance. Conversely smaller GO terms will \"reach significance\" more easliy even if only a couple of genes are overlapping."
   ]
  },
  {
   "cell_type": "markdown",
   "metadata": {},
   "source": [
    "#### b) stepwise increases of the overlap size"
   ]
  },
  {
   "cell_type": "code",
   "execution_count": 30,
   "metadata": {
    "scrolled": true
   },
   "outputs": [
    {
     "data": {
      "text/plain": [
       "<function matplotlib.pyplot.show(*args, **kw)>"
      ]
     },
     "execution_count": 30,
     "metadata": {},
     "output_type": "execute_result"
    },
    {
     "data": {
      "image/png": "[encoded data removed]",
      "text/plain": [
       "<Figure size 432x288 with 1 Axes>"
      ]
     },
     "metadata": {
      "needs_background": "light"
     },
     "output_type": "display_data"
    }
   ],
   "source": [
    "# define Variables\n",
    "Genes_up = 200\n",
    "Genes_GO = 50 \n",
    "upAndGO = 1 # start with a small size (can only be as big as the Genes_up or Genes_GO)\n",
    "universe = 10000\n",
    "\n",
    "# calculate the parts - do not need to calculate a here because that is the parmeter that is varied in the loop\n",
    "\n",
    "b = Genes_GO - upAndGO\n",
    "c = Genes_up - upAndGO\n",
    "d = universe - (b+c+a)\n",
    "\n",
    "# define a Dataframe where the results are saved\n",
    "results_df=[]\n",
    "results_df = pd.DataFrame(columns=['size_overlap', 'p-value', 'oddsratio'])\n",
    "\n",
    "for i in range(upAndGO, upAndGO+Genes_GO, 1):\n",
    "    a = i\n",
    "    oddsratio, pvalue = stats.fisher_exact([[a, b], [c, d]], alternative='greater')\n",
    "    results_df = results_df.append(pd.DataFrame([[i, pvalue, oddsratio]], columns=['size_overlap', 'p-value', 'oddsratio']))\n",
    "\n",
    "# plot the p-value how it depends on the size of the GO term\n",
    "plt.plot(results_df['size_overlap'], results_df['p-value'])\n",
    "plt.xlabel('size of overlap')\n",
    "plt.ylabel('p-value')\n",
    "plt.show"
   ]
  },
  {
   "cell_type": "markdown",
   "metadata": {},
   "source": [
    "**Conclusion**: Increasing the size of the overlap will decrease the p-value and the overlap will be more statistically significant. That should be pretty intutive."
   ]
  },
  {
   "cell_type": "markdown",
   "metadata": {},
   "source": [
    "#### c) stepwise increases of the gene universe size"
   ]
  },
  {
   "cell_type": "code",
   "execution_count": 44,
   "metadata": {},
   "outputs": [
    {
     "data": {
      "text/plain": [
       "<function matplotlib.pyplot.show(*args, **kw)>"
      ]
     },
     "execution_count": 44,
     "metadata": {},
     "output_type": "execute_result"
    },
    {
     "data": {
      "image/png": "[encoded data removed]",
      "text/plain": [
       "<Figure size 432x288 with 1 Axes>"
      ]
     },
     "metadata": {
      "needs_background": "light"
     },
     "output_type": "display_data"
    }
   ],
   "source": [
    "# make loop to vary the size of the Gene universe, while keeping everything else constant\n",
    "\n",
    "# define Variables\n",
    "Genes_up = 200\n",
    "Genes_GO = 50\n",
    "upAndGO = 10\n",
    "universe = 500 # start with a small size\n",
    "\n",
    "# calculate the parts - do not need to calculate d here because that is the parameter that is varied in the loop\n",
    "a = upAndGO\n",
    "b = Genes_GO - upAndGO\n",
    "c = Genes_up - upAndGO\n",
    "\n",
    "results_df=[]\n",
    "results_df = pd.DataFrame(columns=['size_of_universe', 'p-value', 'oddsratio'])\n",
    "\n",
    "for i in range(universe, universe+5000, 100):\n",
    "    d = i - (b+c+a)\n",
    "    oddsratio, pvalue = stats.fisher_exact([[a, b], [c, d]], alternative='greater') # 'greater' option means the probablity of having an overlap this big or greater, given the null hypothesis is true\n",
    "    results_df = results_df.append(pd.DataFrame([[i, pvalue, oddsratio]], columns=['size_of_universe', 'p-value', 'oddsratio']))\n",
    "\n",
    "# plot the top value for each cluster\n",
    "\n",
    "plt.plot(results_df['size_of_universe'], results_df['p-value'])\n",
    "\n",
    "plt.xlabel('size of universe')\n",
    "plt.ylabel('p-value')\n",
    "plt.show"
   ]
  },
  {
   "cell_type": "markdown",
   "metadata": {},
   "source": [
    "**Conclusion**: Increasing the size of the gene universe will decrease the p-value and the overlap will be more statistically significant. If there are more genes to choose from then it is not as likely that they are overlapping."
   ]
  },
  {
   "cell_type": "code",
   "execution_count": null,
   "metadata": {},
   "outputs": [],
   "source": []
  }
 ],
 "metadata": {
  "kernelspec": {
   "display_name": "Python 3",
   "language": "python",
   "name": "python3"
  },
  "language_info": {
   "codemirror_mode": {
    "name": "ipython",
    "version": 3
   },
   "file_extension": ".py",
   "mimetype": "text/x-python",
   "name": "python",
   "nbconvert_exporter": "python",
   "pygments_lexer": "ipython3",
   "version": "3.7.3"
  },
  "varInspector": {
   "cols": {
    "lenName": 16,
    "lenType": 16,
    "lenVar": 40
   },
   "kernels_config": {
    "python": {
     "delete_cmd_postfix": "",
     "delete_cmd_prefix": "del ",
     "library": "var_list.py",
     "varRefreshCmd": "print(var_dic_list())"
    },
    "r": {
     "delete_cmd_postfix": ") ",
     "delete_cmd_prefix": "rm(",
     "library": "var_list.r",
     "varRefreshCmd": "cat(var_dic_list()) "
    }
   },
   "types_to_exclude": [
    "module",
    "function",
    "builtin_function_or_method",
    "instance",
    "_Feature"
   ],
   "window_display": false
  }
 },
 "nbformat": 4,
 "nbformat_minor": 2
}
